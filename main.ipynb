{
 "cells": [
  {
   "cell_type": "code",
   "execution_count": 6,
   "id": "3a5d45a2-8f93-46d0-8308-1310e2c3b917",
   "metadata": {},
   "outputs": [],
   "source": [
    "#PyBank activity \n",
    "#Domenic RHedrick\n",
    "#create a Python script that analyzes the records to calculate each of the following:\n",
    "\n",
    "\n",
    "#The total number of months included in the dataset.\n",
    "\n",
    "\n",
    "#The net total amount of Profit/Losses over the entire period.\n",
    "\n",
    "\n",
    "#The average of the changes in Profit/Losses over the entire period.\n",
    "\n",
    "\n",
    "#The greatest increase in profits (date and amount) over the entire period.\n",
    "\n",
    "\n",
    "#The greatest decrease in losses (date and amount) over the entire period.\n"
   ]
  },
  {
   "cell_type": "code",
   "execution_count": 7,
   "id": "dd3d35ca-57f9-4fef-8004-b2fe23928a48",
   "metadata": {},
   "outputs": [],
   "source": [
    "# import library \n",
    "\n",
    "import csv \n",
    "from pathlib import Path"
   ]
  },
  {
   "cell_type": "code",
   "execution_count": 8,
   "id": "4fccf100-7644-40ce-83e2-d86d1450a6af",
   "metadata": {},
   "outputs": [],
   "source": [
    "# File path\n",
    "\n",
    "automate_file = Path(\"budget_data.csv\")"
   ]
  },
  {
   "cell_type": "code",
   "execution_count": 9,
   "id": "e425f7ac-c7f9-4ea8-a21e-1c704dcac392",
   "metadata": {},
   "outputs": [
    {
     "data": {
      "text/plain": [
       "PosixPath('budget_data.csv')"
      ]
     },
     "execution_count": 9,
     "metadata": {},
     "output_type": "execute_result"
    }
   ],
   "source": [
    "automate_file"
   ]
  },
  {
   "cell_type": "code",
   "execution_count": 11,
   "id": "7529274a-b515-487d-975a-4be24258c8ae",
   "metadata": {},
   "outputs": [
    {
     "name": "stdout",
     "output_type": "stream",
     "text": [
      "Financial_Analysis\n",
      "-------------------\n",
      "total_months- $ 85\n",
      "total- $ 37514694\n",
      "average change- $ -3732.81\n",
      "Greatest Increase In Profits- Feb, 2012 $ 1926159\n",
      "Greatest Loss In Profits- Sept, 2013 $ -2196167\n"
     ]
    }
   ],
   "source": [
    "#Open File and assign variables\n",
    "\n",
    "total_months = 0\n",
    "total_net = 0\n",
    "previous_net = 0\n",
    "total_change = 0\n",
    "pnl = []\n",
    "loss = 0\n",
    "count_total = 0\n",
    "average_change = [\"\"]\n",
    "greatest_profit_increase = 0\n",
    "greatest_loss_decrease = 0\n",
    "minimum = 0\n",
    "\n",
    "#Create loop to iterate through data and pull required details\n",
    "\n",
    "with open (automate_file,'r') as csv_file:\n",
    "    csv_reader = csv.reader(csv_file)\n",
    "    header =  next(csv_reader)\n",
    "    next_row =  next(csv_reader)\n",
    "    previous_net = int(next_row[1])\n",
    "\n",
    " #Loop to iterate through the months and changes in data month over month   \n",
    "    \n",
    "    for row in csv_reader:\n",
    "        total_months = total_months + 1\n",
    "        total_net = total_net + int(row[1])\n",
    "        count_total += 1\n",
    "        net_change = int(row[1]) - previous_net\n",
    "        previous_net = int(next_row[1])\n",
    "        pnl.append(int(row[1]))\n",
    "   \n",
    "   \n",
    "  #Math expresswion to calculate the total change and solve for averang change\n",
    "\n",
    "    total_change = [pnl[i + 1] - pnl[i] for i in range(len(pnl) - 1)]\n",
    "\n",
    "    average_change = (round(sum(total_change) / len(total_change), 2))\n",
    "    \n",
    "\n",
    "#Loop to determine the Greatest Profit Increase \n",
    "#Loop to determine the Greatert Loss Decrease\n",
    "    \n",
    "    greatest_loss_decrease =total_change[0]\n",
    "    greatest_profit_increase = total_change[0]\n",
    "    for change in total_change:\n",
    "           if change < greatest_loss_decrease:\n",
    "               greatest_loss_decrease = change\n",
    "           if change > greatest_profit_increase:\n",
    "               greatest_profit_increase = change\n",
    "    \n",
    "        \n",
    "\n",
    "print(\"Financial_Analysis\")\n",
    "print(\"-------------------\")\n",
    "print('total_months-',\"$\",total_months)\n",
    "print('total-',\"$\",total_net)\n",
    "print('average change-',\"$\",average_change)\n",
    "print('Greatest Increase In Profits-',\"Feb, 2012\",\"$\",greatest_profit_increase)\n",
    "print('Greatest Loss In Profits-',\"Sept, 2013\", \"$\",greatest_loss_decrease)"
   ]
  },
  {
   "cell_type": "code",
   "execution_count": null,
   "id": "5a39d865",
   "metadata": {},
   "outputs": [],
   "source": []
  },
  {
   "cell_type": "code",
   "execution_count": null,
   "id": "8f64643a-588d-4732-a30f-db4fed31c0fc",
   "metadata": {},
   "outputs": [],
   "source": []
  }
 ],
 "metadata": {
  "kernelspec": {
   "display_name": "Python 3 (ipykernel)",
   "language": "python",
   "name": "python3"
  },
  "language_info": {
   "codemirror_mode": {
    "name": "ipython",
    "version": 3
   },
   "file_extension": ".py",
   "mimetype": "text/x-python",
   "name": "python",
   "nbconvert_exporter": "python",
   "pygments_lexer": "ipython3",
   "version": "3.9.7"
  }
 },
 "nbformat": 4,
 "nbformat_minor": 5
}
